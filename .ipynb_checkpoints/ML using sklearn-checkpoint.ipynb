{
 "cells": [
  {
   "cell_type": "code",
   "execution_count": null,
   "metadata": {},
   "outputs": [],
   "source": [
    "import numpy as np \n",
    "import pandas as pd\n",
    "import imp\n",
    "\n",
    "import data_exploration as de"
   ]
  },
  {
   "cell_type": "code",
   "execution_count": null,
   "metadata": {},
   "outputs": [],
   "source": [
    "!pip install seaborn"
   ]
  },
  {
   "cell_type": "markdown",
   "metadata": {},
   "source": [
    "# import datasets from ICS ML databases"
   ]
  },
  {
   "cell_type": "code",
   "execution_count": null,
   "metadata": {},
   "outputs": [],
   "source": [
    "root_url = \"https://archive.ics.uci.edu/ml/machine-learning-databases/\"\n",
    "\n",
    "# binary classification problem - small dataset - Rocks versus Mines - features not labelled\n",
    "sonar_url = \"undocumented/connectionist-bench/sonar/sonar.all-data\"\n",
    "rvmines_df = pd.read_csv(root_url + sonar_url, sep=',', header=None)\n",
    "\n",
    "# regression problem - How old is your abalone? - number of rings is a gauge for age\n",
    "abalone_url = \"abalone/abalone.data\"\n",
    "abalone_df = pd.read_csv(root_url + abalone_url, sep=',', header=None)\n",
    "abalone_df.columns = ['sex', 'length', 'diameter', 'height', 'whole_weight', 'shucked_weight', 'viscera_weight', 'shell_weight', 'rings']\n",
    "\n",
    "# regression problem - wine taste\n",
    "wine_url = \"wine-quality/winequality-red.csv\"\n",
    "wines_df = pd.read_csv(root_url + wine_url, sep=';', header=0)\n",
    "\n",
    "# multi-class classification problem - what type of glass?\n",
    "glass_url = \"glass/glass.data\"\n",
    "glass_df = pd.read_csv(root_url + glass_url, sep=',', header=None)\n",
    "glass_df.columns = ['Id', 'RI', 'Na', 'Mg', 'Al', 'Si', 'K', 'Ca', 'Ba', 'Fe', 'Type']"
   ]
  },
  {
   "cell_type": "markdown",
   "metadata": {},
   "source": [
    "# understand the problem by understanding the data"
   ]
  },
  {
   "cell_type": "code",
   "execution_count": null,
   "metadata": {},
   "outputs": [],
   "source": [
    "df = glass_df.copy()\n",
    "#df.columns = [\"V\"+str(col) for col in df.columns]\n",
    "df.head()"
   ]
  },
  {
   "cell_type": "code",
   "execution_count": null,
   "metadata": {},
   "outputs": [],
   "source": [
    "df.shape"
   ]
  },
  {
   "cell_type": "code",
   "execution_count": null,
   "metadata": {},
   "outputs": [],
   "source": [
    "imp.reload(de);\n",
    "de.visualize_ML_dataset(df, label='Type')"
   ]
  },
  {
   "cell_type": "markdown",
   "metadata": {},
   "source": [
    "# Normalizing data\n",
    "\n",
    "[scale-standardize-or-normalize-with-scikit-learn](https://towardsdatascience.com/scale-standardize-or-normalize-with-scikit-learn-6ccc7d176a02)"
   ]
  },
  {
   "cell_type": "code",
   "execution_count": null,
   "metadata": {},
   "outputs": [],
   "source": [
    "X_train = df.iloc[:,:-1].values\n",
    "X_train.shape"
   ]
  },
  {
   "cell_type": "code",
   "execution_count": null,
   "metadata": {},
   "outputs": [],
   "source": [
    "from sklearn import preprocessing"
   ]
  },
  {
   "cell_type": "code",
   "execution_count": null,
   "metadata": {},
   "outputs": [],
   "source": [
    "\n",
    "ndf = df.iloc[:,:-1].copy()\n",
    "X_train = ndf.values\n",
    "mm_scaler = preprocessing.MinMaxScaler()\n",
    "scaled_values = mm_scaler.fit_transform(X_train)\n",
    "ndf.loc[:,:] = scaled_values\n",
    "ndf\n",
    "#X_train_minmax\n",
    "\n",
    "#mm_scaler.transform(X_test)"
   ]
  },
  {
   "cell_type": "markdown",
   "metadata": {},
   "source": [
    "# Pipeline\n",
    "\n",
    "[integrating-pandas-and-scikit-learn-with-pipelines](https://medium.com/bigdatarepublic/integrating-pandas-and-scikit-learn-with-pipelines-f70eb6183696)\n",
    "\n",
    "[careful about target leakage and train-test contamination](https://www.kaggle.com/alexisbcook/data-leakage/data)\n",
    "\n",
    "[data-leakage-machine-learning](https://machinelearningmastery.com/data-leakage-machine-learning/)"
   ]
  },
  {
   "cell_type": "markdown",
   "metadata": {},
   "source": [
    "# Penalized Linear Regression"
   ]
  },
  {
   "cell_type": "markdown",
   "metadata": {},
   "source": [
    "# Ensemble Methods"
   ]
  }
 ],
 "metadata": {
  "kernelspec": {
   "display_name": "Python 3",
   "language": "python",
   "name": "python3"
  },
  "language_info": {
   "codemirror_mode": {
    "name": "ipython",
    "version": 3
   },
   "file_extension": ".py",
   "mimetype": "text/x-python",
   "name": "python",
   "nbconvert_exporter": "python",
   "pygments_lexer": "ipython3",
   "version": "3.7.4"
  }
 },
 "nbformat": 4,
 "nbformat_minor": 4
}
